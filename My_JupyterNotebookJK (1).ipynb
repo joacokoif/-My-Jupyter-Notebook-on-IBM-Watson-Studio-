{
  "metadata": {
    "language_info": {
      "codemirror_mode": {
        "name": "python",
        "version": 3
      },
      "file_extension": ".py",
      "mimetype": "text/x-python",
      "name": "python",
      "nbconvert_exporter": "python",
      "pygments_lexer": "ipython3",
      "version": "3.8"
    },
    "kernelspec": {
      "name": "python",
      "display_name": "Python (Pyodide)",
      "language": "python"
    }
  },
  "nbformat_minor": 4,
  "nbformat": 4,
  "cells": [
    {
      "cell_type": "markdown",
      "source": "# \"My Jupyter Notebook on IBM Watson Studio\"",
      "metadata": {}
    },
    {
      "cell_type": "markdown",
      "source": "**Joaquin Koifman** \nStudent",
      "metadata": {}
    },
    {
      "cell_type": "markdown",
      "source": "*I am interested in data science because, I am going to start this year my carreer degree in Data Science and I would like to be prepared*",
      "metadata": {}
    },
    {
      "cell_type": "markdown",
      "source": "### My code is supposed to correctly calculate the following math problem",
      "metadata": {}
    },
    {
      "cell_type": "code",
      "source": "12*4+5",
      "metadata": {
        "trusted": true
      },
      "execution_count": 1,
      "outputs": [
        {
          "execution_count": 1,
          "output_type": "execute_result",
          "data": {
            "text/plain": "53"
          },
          "metadata": {}
        }
      ]
    },
    {
      "cell_type": "markdown",
      "source": "- A\n- B\n- C\n***\n1. A\n2. B\n3. C\n\n",
      "metadata": {}
    }
  ]
}